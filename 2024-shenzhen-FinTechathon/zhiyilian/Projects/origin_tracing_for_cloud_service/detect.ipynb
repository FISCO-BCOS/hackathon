{
 "cells": [
  {
   "cell_type": "code",
   "execution_count": 1,
   "metadata": {},
   "outputs": [
    {
     "data": {
      "application/vnd.jupyter.widget-view+json": {
       "model_id": "ea70157e7a414f38a058490a19095e87",
       "version_major": 2,
       "version_minor": 0
      },
      "text/plain": [
       "Loading pipeline components...:   0%|          | 0/6 [00:00<?, ?it/s]"
      ]
     },
     "metadata": {},
     "output_type": "display_data"
    },
    {
     "name": "stdout",
     "output_type": "stream",
     "text": [
      "Watermark(\n",
      "  (encoder): Sequential(\n",
      "    (0): Sequential(\n",
      "      (0): Conv2d(48, 48, kernel_size=(3, 3), stride=(2, 2), padding=(1, 1))\n",
      "      (1): BatchNorm2d(48, eps=1e-05, momentum=0.1, affine=True, track_running_stats=True)\n",
      "      (2): ReLU()\n",
      "    )\n",
      "    (1): Sequential(\n",
      "      (0): Conv2d(48, 96, kernel_size=(3, 3), stride=(2, 2), padding=(1, 1))\n",
      "      (1): BatchNorm2d(96, eps=1e-05, momentum=0.1, affine=True, track_running_stats=True)\n",
      "      (2): ReLU()\n",
      "    )\n",
      "    (2): Sequential(\n",
      "      (0): Conv2d(96, 128, kernel_size=(3, 3), stride=(2, 2), padding=(1, 1))\n",
      "      (1): BatchNorm2d(128, eps=1e-05, momentum=0.1, affine=True, track_running_stats=True)\n",
      "      (2): ReLU()\n",
      "    )\n",
      "    (3): Sequential(\n",
      "      (0): Conv2d(128, 256, kernel_size=(3, 3), stride=(2, 2), padding=(1, 1))\n",
      "      (1): BatchNorm2d(256, eps=1e-05, momentum=0.1, affine=True, track_running_stats=True)\n",
      "      (2): ReLU()\n",
      "    )\n",
      "  )\n",
      "  (mean_linear): Linear(in_features=4096, out_features=16384, bias=True)\n",
      "  (var_linear): Linear(in_features=4096, out_features=16384, bias=True)\n",
      "  (decoder_projection): Linear(in_features=16384, out_features=4096, bias=True)\n",
      "  (decoder): Sequential(\n",
      "    (0): Sequential(\n",
      "      (0): ConvTranspose2d(256, 128, kernel_size=(3, 3), stride=(2, 2), padding=(1, 1), output_padding=(1, 1))\n",
      "      (1): BatchNorm2d(128, eps=1e-05, momentum=0.1, affine=True, track_running_stats=True)\n",
      "      (2): ReLU()\n",
      "    )\n",
      "    (1): Sequential(\n",
      "      (0): ConvTranspose2d(128, 96, kernel_size=(3, 3), stride=(2, 2), padding=(1, 1), output_padding=(1, 1))\n",
      "      (1): BatchNorm2d(96, eps=1e-05, momentum=0.1, affine=True, track_running_stats=True)\n",
      "      (2): ReLU()\n",
      "    )\n",
      "    (2): Sequential(\n",
      "      (0): ConvTranspose2d(96, 48, kernel_size=(3, 3), stride=(2, 2), padding=(1, 1), output_padding=(1, 1))\n",
      "      (1): BatchNorm2d(48, eps=1e-05, momentum=0.1, affine=True, track_running_stats=True)\n",
      "      (2): ReLU()\n",
      "    )\n",
      "    (3): Sequential(\n",
      "      (0): ConvTranspose2d(48, 48, kernel_size=(3, 3), stride=(2, 2), padding=(1, 1), output_padding=(1, 1))\n",
      "      (1): BatchNorm2d(48, eps=1e-05, momentum=0.1, affine=True, track_running_stats=True)\n",
      "      (2): ReLU()\n",
      "      (3): Conv2d(48, 48, kernel_size=(3, 3), stride=(1, 1), padding=(1, 1))\n",
      "      (4): ReLU()\n",
      "    )\n",
      "  )\n",
      "  (swish): Swish()\n",
      ")\n"
     ]
    },
    {
     "data": {
      "text/plain": [
       "Watermark(\n",
       "  (encoder): Sequential(\n",
       "    (0): Sequential(\n",
       "      (0): Conv2d(48, 48, kernel_size=(3, 3), stride=(2, 2), padding=(1, 1))\n",
       "      (1): BatchNorm2d(48, eps=1e-05, momentum=0.1, affine=True, track_running_stats=True)\n",
       "      (2): ReLU()\n",
       "    )\n",
       "    (1): Sequential(\n",
       "      (0): Conv2d(48, 96, kernel_size=(3, 3), stride=(2, 2), padding=(1, 1))\n",
       "      (1): BatchNorm2d(96, eps=1e-05, momentum=0.1, affine=True, track_running_stats=True)\n",
       "      (2): ReLU()\n",
       "    )\n",
       "    (2): Sequential(\n",
       "      (0): Conv2d(96, 128, kernel_size=(3, 3), stride=(2, 2), padding=(1, 1))\n",
       "      (1): BatchNorm2d(128, eps=1e-05, momentum=0.1, affine=True, track_running_stats=True)\n",
       "      (2): ReLU()\n",
       "    )\n",
       "    (3): Sequential(\n",
       "      (0): Conv2d(128, 256, kernel_size=(3, 3), stride=(2, 2), padding=(1, 1))\n",
       "      (1): BatchNorm2d(256, eps=1e-05, momentum=0.1, affine=True, track_running_stats=True)\n",
       "      (2): ReLU()\n",
       "    )\n",
       "  )\n",
       "  (mean_linear): Linear(in_features=4096, out_features=16384, bias=True)\n",
       "  (var_linear): Linear(in_features=4096, out_features=16384, bias=True)\n",
       "  (decoder_projection): Linear(in_features=16384, out_features=4096, bias=True)\n",
       "  (decoder): Sequential(\n",
       "    (0): Sequential(\n",
       "      (0): ConvTranspose2d(256, 128, kernel_size=(3, 3), stride=(2, 2), padding=(1, 1), output_padding=(1, 1))\n",
       "      (1): BatchNorm2d(128, eps=1e-05, momentum=0.1, affine=True, track_running_stats=True)\n",
       "      (2): ReLU()\n",
       "    )\n",
       "    (1): Sequential(\n",
       "      (0): ConvTranspose2d(128, 96, kernel_size=(3, 3), stride=(2, 2), padding=(1, 1), output_padding=(1, 1))\n",
       "      (1): BatchNorm2d(96, eps=1e-05, momentum=0.1, affine=True, track_running_stats=True)\n",
       "      (2): ReLU()\n",
       "    )\n",
       "    (2): Sequential(\n",
       "      (0): ConvTranspose2d(96, 48, kernel_size=(3, 3), stride=(2, 2), padding=(1, 1), output_padding=(1, 1))\n",
       "      (1): BatchNorm2d(48, eps=1e-05, momentum=0.1, affine=True, track_running_stats=True)\n",
       "      (2): ReLU()\n",
       "    )\n",
       "    (3): Sequential(\n",
       "      (0): ConvTranspose2d(48, 48, kernel_size=(3, 3), stride=(2, 2), padding=(1, 1), output_padding=(1, 1))\n",
       "      (1): BatchNorm2d(48, eps=1e-05, momentum=0.1, affine=True, track_running_stats=True)\n",
       "      (2): ReLU()\n",
       "      (3): Conv2d(48, 48, kernel_size=(3, 3), stride=(1, 1), padding=(1, 1))\n",
       "      (4): ReLU()\n",
       "    )\n",
       "  )\n",
       "  (swish): Swish()\n",
       ")"
      ]
     },
     "execution_count": 1,
     "metadata": {},
     "output_type": "execute_result"
    }
   ],
   "source": [
    "import argparse\n",
    "from tqdm.auto import tqdm\n",
    "import torch\n",
    "import matplotlib.pyplot as plt\n",
    "from utils import *\n",
    "import random\n",
    "import numpy as np\n",
    "import math\n",
    "import os \n",
    "import scipy\n",
    "import torch.nn as nn\n",
    "from modified_stable_diffusion import ModifiedStableDiffusionPipeline\n",
    "import PIL\n",
    "from PIL import Image, ImageFilter,ImageEnhance\n",
    "import commpy.utilities as util\n",
    "import cv2\n",
    "from bm3d import bm3d_rgb\n",
    "\n",
    "if __name__ == '__main__':\n",
    "    parser = argparse.ArgumentParser(description='diffusion watermark')\n",
    "    parser.add_argument('--w_seed', default=0, type=int)\n",
    "    # parser.add_argument('--dataset', default='Gustavosta/Stable-Diffusion-Prompts')\n",
    "    parser.add_argument('--dataset', default='coco')\n",
    "    # parser.add_argument('--dataset', default='stablediffusionDB')\n",
    "    parser.add_argument('--model_path', default='../stable-diffusion-2-1-base')\n",
    "    # parser.add_argument('--model_path', default='../stable-diffusion-v1-4')\n",
    "    parser.add_argument('--image_length', default=512, type=int)\n",
    "    parser.add_argument('--secret_length', default=48, type=int)\n",
    "    parser.add_argument('--num_inference_steps', default=25, type=int)\n",
    "    parser.add_argument('--guidancescale', default=5, type=float)\n",
    "    parser.add_argument('--reverse_inference_steps', default=25, type=int)\n",
    "    # parser.add_argument('--model', default='./encoder_decoder_pretrain/model48bit.pth', type=str)\n",
    "    # parser.add_argument('--model', default='./model48bit_finetuned.pth', type=str)\n",
    "    parser.add_argument('--model', default='./model48bit_finetuned_backup.pth', type=str)\n",
    "    parser.add_argument('--birghtness', default=None, type=float,choices=[1,2,3,4,5])\n",
    "    parser.add_argument('--noise', default=None, type=float,choices=[0.01,0.05])\n",
    "    parser.add_argument('--contrast', default=None, type=float,choices=[1,2,3,4,5])\n",
    "    parser.add_argument('--hue', default=None, type=float,choices=[0.25,2])\n",
    "    parser.add_argument('--blur', default=None, type=int,choices=[1,3,5])\n",
    "    parser.add_argument('--jpegcompression', default=None, type=int,choices=[40,50])\n",
    "    parser.add_argument('--resize', default=None, type=float,choices=[0.4,0.8])\n",
    "    parser.add_argument('--bm3d', default=30, type=float,choices=[10,20])\n",
    "    args =parser.parse_known_args()[0]\n",
    "    device = 'cuda' if torch.cuda.is_available() else 'cpu'\n",
    "    torch.set_printoptions(sci_mode=False,profile='full')\n",
    "    os.environ[\"CUDA_VISIBLE_DEVICES\"] = \"0\"\n",
    "    maxlength=150\n",
    "    \n",
    "# dataset\n",
    "dataset, prompt_key = get_dataset(args)\n",
    "dataset=promptdataset(dataset,prompt_key)\n",
    "\n",
    "#model\n",
    "scheduler = DPMSolverMultistepScheduler.from_pretrained(args.model_path, subfolder='scheduler')\n",
    "pipe = ModifiedStableDiffusionPipeline.from_pretrained(\n",
    "        args.model_path,\n",
    "        scheduler=scheduler,\n",
    "        torch_dtype=torch.float16,\n",
    "        revision='fp16',\n",
    "        )\n",
    "pipe = pipe.to(device)\n",
    "\n",
    "#diffusetrace\n",
    "from encoder_decoder_pretrain.watermark_model import *\n",
    "encoder=Watermark(secret_length=args.secret_length).to(device)\n",
    "if args.model !=None:\n",
    "    encoder.load_state_dict(torch.load(args.model))\n",
    "encoder.eval()"
   ]
  },
  {
   "cell_type": "code",
   "execution_count": 2,
   "metadata": {},
   "outputs": [
    {
     "name": "stdout",
     "output_type": "stream",
     "text": [
      "10\n"
     ]
    }
   ],
   "source": [
    "watermarked_dataset_dir='./exp/img'\n",
    "watermarked_img_dir = os.path.join(watermarked_dataset_dir, '') # load watermarked images: around 1.0 bit-accuracy\n",
    "num_images = len(os.listdir(watermarked_img_dir))-1\n",
    "# watermarked_images = torch.zeros((num_images, 3, args.image_length, args.image_length))\n",
    "watermarked_images=[]\n",
    "for i in range(num_images):\n",
    "            img_path = os.path.join(watermarked_img_dir, '{}.png'.format(i))\n",
    "            im = Image.open(img_path)\n",
    "            # im = torch.from_numpy(np.array(im))\n",
    "            # im= im.permute(2, 0, 1)\n",
    "            # im = (im/255)*2-1\n",
    "            # watermarked_images[i] = im\n",
    "            watermarked_images.append(im)\n",
    "\n",
    "Secret = np.load('exp/secret.npy')\n",
    "print(len(Secret))"
   ]
  },
  {
   "cell_type": "code",
   "execution_count": 3,
   "metadata": {},
   "outputs": [
    {
     "data": {
      "application/vnd.jupyter.widget-view+json": {
       "model_id": "41f255d038ff48b7a420fd24010151b3",
       "version_major": 2,
       "version_minor": 0
      },
      "text/plain": [
       "  0%|          | 0/10 [00:00<?, ?it/s]"
      ]
     },
     "metadata": {},
     "output_type": "display_data"
    },
    {
     "name": "stderr",
     "output_type": "stream",
     "text": [
      "/root/miniconda3/envs/watermark/lib/python3.10/site-packages/torch/nn/modules/loss.py:535: UserWarning: Using a target size (torch.Size([48])) that is different to the input size (torch.Size([1, 48])). This will likely lead to incorrect results due to broadcasting. Please ensure they have the same size.\n",
      "  return F.mse_loss(input, target, reduction=self.reduction)\n"
     ]
    },
    {
     "name": "stdout",
     "output_type": "stream",
     "text": [
      "1\n",
      "1\n",
      "1\n",
      "3\n",
      "1\n",
      "4\n",
      "0\n",
      "2\n",
      "0\n",
      "1\n"
     ]
    }
   ],
   "source": [
    "for t in tqdm(range(num_images)):\n",
    "    reverse_latents=reverse(watermarked_images[t],pipe,args).float()\n",
    "    reverse_latents = reverse_latents.view(1, -1)\n",
    "    x = encoder.decoder_projection(reverse_latents)\n",
    "    x = torch.reshape(x, (-1, *encoder.decoder_input_chw))\n",
    "    average_tensor1 = torch.from_numpy(Secret[t]).to(device)\n",
    "    average_tensor2 = torch.round(torch.mean(encoder.decoder(x), dim=(-2, -1)))\n",
    "    average_tensor3 = torch.mean(encoder.decoder(x), dim=(-2, -1))\n",
    "    biterror=torch.sum(abs(average_tensor1-average_tensor2))\n",
    "    mse_loss = torch.nn.MSELoss()\n",
    "    loss = mse_loss(average_tensor3, average_tensor1)\n",
    "    # print(int(biterror.detach().cpu().numpy()))\n",
    "    print(int(biterror.detach().cpu().numpy()))\n"
   ]
  }
 ],
 "metadata": {
  "kernelspec": {
   "display_name": "watermark",
   "language": "python",
   "name": "python3"
  },
  "language_info": {
   "codemirror_mode": {
    "name": "ipython",
    "version": 3
   },
   "file_extension": ".py",
   "mimetype": "text/x-python",
   "name": "python",
   "nbconvert_exporter": "python",
   "pygments_lexer": "ipython3",
   "version": "3.10.6"
  }
 },
 "nbformat": 4,
 "nbformat_minor": 2
}
