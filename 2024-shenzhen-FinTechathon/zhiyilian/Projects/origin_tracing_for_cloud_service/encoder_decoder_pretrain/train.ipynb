{
 "cells": [
  {
   "cell_type": "code",
   "execution_count": 1,
   "metadata": {},
   "outputs": [
    {
     "name": "stdout",
     "output_type": "stream",
     "text": [
      "step 105:loss=9331855.0\n",
      "step 110:loss=9328569.0\n"
     ]
    }
   ],
   "source": [
    "import torch\n",
    "import torch.nn.functional as F\n",
    "from torch.utils.data import Dataset,DataLoader\n",
    "from watermark_model import Watermark\n",
    "import argparse\n",
    "import numpy as np\n",
    "\n",
    "@torch.no_grad()\n",
    "def reconstruct(device,model,args):\n",
    "        X=[]\n",
    "        for j in range(args.batchsize):\n",
    "                binary=torch.Tensor(np.random.choice([0, 1], size=(args.secret_length))).to(device)\n",
    "                binary = binary.unsqueeze(-1).unsqueeze(-1).unsqueeze(0)\n",
    "                binary = binary.expand(-1,-1,64,64)\n",
    "                X.append(binary)\n",
    "        x=torch.cat(X,dim=0)\n",
    "        output = model(x)\n",
    "        input = x.detach().cpu()\n",
    "        output = output[0].detach().cpu()\n",
    "        average_tensor1 = torch.mean(input, dim=(-2, -1))\n",
    "        average_tensor2 = torch.round(torch.mean(output, dim=(-2, -1)))\n",
    "        print(f'bit error={torch.sum(abs(average_tensor1-average_tensor2))/args.batchsize}')\n",
    "        print(torch.mean(input, dim=(-2, -1))[0],torch.round(torch.mean(output, dim=(-2, -1)))[0],torch.mean(output, dim=(-2, -1))[0])\n",
    "        \n",
    "def train(device, model, optimizer,args):\n",
    "    # train\n",
    "    for i in range(args.steps):\n",
    "            X=[]\n",
    "            for j in range(args.batchsize):\n",
    "                binary=torch.Tensor(np.random.choice([0, 1], size=(args.secret_length))).to(device)\n",
    "                binary = binary.unsqueeze(-1).unsqueeze(-1).unsqueeze(0)\n",
    "                binary = binary.expand(-1,-1,64,64)\n",
    "                X.append(binary)\n",
    "            x=torch.cat(X,dim=0)\n",
    "            y, mean, logvar = model(x)\n",
    "            recloss=F.mse_loss(y,x,reduction='sum')\n",
    "            kl_loss = torch.mean(\n",
    "            -0.5 * torch.sum(1 + logvar - mean**2 - torch.exp(logvar), 1), 0)\n",
    "            kl_loss = args.kl_weight*kl_loss\n",
    "            loss=recloss+kl_loss\n",
    "            optimizer.zero_grad()\n",
    "            loss.backward()\n",
    "            optimizer.step()\n",
    "            if i%5==0:\n",
    "                # print(f'step {i}: recloss:{recloss} klloss:{kl_loss} loss={loss}')\n",
    "                print(f'step {i}:loss={loss}')\n",
    "                # reconstruct(device, model, args)\n",
    "                # torch.save(model.state_dict(),'model48bit.pth')          \n",
    "    return model\n",
    "        \n",
    "\n",
    "if __name__ == '__main__':\n",
    "    parser = argparse.ArgumentParser(description='encoder-decoder pretraining')\n",
    "    parser.add_argument('--secret_length', default=48, type=int)\n",
    "    parser.add_argument('--steps', default=2000000, type=int)\n",
    "    parser.add_argument('--kl_weight', default=1, type=float)\n",
    "    parser.add_argument('--lr', default=0.0003, type=float)\n",
    "    parser.add_argument('--batchsize', default=192, type=int)\n",
    "    parser.add_argument('--load_path', default=None, type=str)\n",
    "    parser.add_argument('--save_path', default='./model48bit.pth', type=str)\n",
    "    args =parser.parse_known_args()[0]\n",
    "    device = 'cuda' if torch.cuda.is_available() else 'cpu'\n",
    "    \n",
    "model=Watermark(secret_length=args.secret_length).to(device)\n",
    "optimizer = torch.optim.Adam(model.parameters(), args.lr)\n",
    "if args.load_path != None:\n",
    "     model.load_state_dict(torch.load(args.load_path))\n",
    "model=train(device, model, optimizer,args)\n",
    "torch.save(model.state_dict(),args.save_path)"
   ]
  }
 ],
 "metadata": {
  "kernelspec": {
   "display_name": "watermark",
   "language": "python",
   "name": "python3"
  },
  "language_info": {
   "codemirror_mode": {
    "name": "ipython",
    "version": 3
   },
   "file_extension": ".py",
   "mimetype": "text/x-python",
   "name": "python",
   "nbconvert_exporter": "python",
   "pygments_lexer": "ipython3",
   "version": "3.11.10"
  }
 },
 "nbformat": 4,
 "nbformat_minor": 2
}
